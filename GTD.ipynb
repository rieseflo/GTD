{
 "cells": [
  {
   "cell_type": "markdown",
   "metadata": {},
   "source": [
    "## Risikoanalyse in Bezug auf Terroranschläge für international tätige Reiseunternehmen"
   ]
  },
  {
   "cell_type": "markdown",
   "metadata": {},
   "source": [
    "## Inhaltsverzeichnis"
   ]
  },
  {
   "cell_type": "markdown",
   "metadata": {},
   "source": [
    "[1. Einleitung](#1-einleitung)  \n",
    "[2. Explorative Datenanalyse](#2-explorative-datenanalyse)  \n",
    "[3. Unifying & Transformation](#3-unifying--transformation)  \n",
    "[4. Data Cleansing](#4-data-cleansing)  \n",
    "[5. Analysis & Validation](#5-analysis--validation)  \n",
    "[6. Feature Selection & Engineering](#6-feature-selection--engineering)  \n",
    "[7. Anwendung in Machine Learning](#7-anwendung-in-machine-learning)  \n",
    "[8. Anwendung von XAI - Techniken](#8-anwendung-von-xai---techniken)  \n",
    "[9. Fazit](#9-fazit)  \n",
    "[10. Quellenverzeichnis](#10-quellenverzeichnis)"
   ]
  },
  {
   "cell_type": "markdown",
   "metadata": {},
   "source": [
    "## 1. Einleitung"
   ]
  },
  {
   "cell_type": "markdown",
   "metadata": {},
   "source": [
    "### Projektmitglieder:\n",
    "Elias Wolfsberger (wolfseli@students.zhaw.ch)\n",
    "\n",
    "Oliver Brennwald (brennoli@students.zhaw.ch)\n",
    "\n",
    "Florian Rieser (rieseflo@students.zhaw.ch) \n",
    "\n",
    "### Datenquelle:\n",
    "Global terrorism database (START, 2022)\n",
    "\n",
    "### Problem- & Fragestellung:\n",
    "Ziel dieses Projekts ist es, Werkzeuge zur Risikoanalyse im Kontext von Terroranschlägen für internationale Reiseunternehmen zu entwickeln. Mithilfe der Global Terrorism Database werden Bedrohungsmuster und Risikofaktoren untersucht, um sie besser zu verstehen. Dabei liegt ein besonderer Fokus auf der Modellierung, um potenzielle Gefahren vorherzusagen und frühzeitig geeignete Schutzmaßnahmen zu ergreifen. Mit Hilfe von Machine Learning werden Prognosemodelle entwickelt, die auf historischen Daten basieren und eine Einschätzung zukünftiger Risiken ermöglichen. Diese Modelle sollen den Verantwortlichen bei der Planung von Veranstaltungen sowie den Sicherheitsbehörden als Grundlage dienen, um fundierte Entscheidungen zu treffen und Sicherheitskonzepte gezielt anzupassen. So lassen sich Zwischenfälle verringern und die Sicherheit auf Reisen erhöhen.\n",
    "\n",
    "### Zielsetzung:\n",
    "\n",
    "\n",
    "### Vorgehen & Methoden:\n",
    "1. Explorative Datenanalyse \n",
    "\n",
    "2. Unifying & Transformation\n",
    "\n",
    "3. Data Cleansing\n",
    "\n",
    "4. Analysis & Validation\n",
    "\n",
    "5. Feature Selection & Engineering\n",
    "\n",
    "6. Anwendung in Machine Learning\n",
    "\n",
    "7. Anwendung von XAI - Techniken"
   ]
  },
  {
   "cell_type": "markdown",
   "metadata": {},
   "source": [
    "## 2. Explorative Datenanalyse"
   ]
  },
  {
   "cell_type": "code",
   "execution_count": null,
   "metadata": {},
   "outputs": [],
   "source": []
  },
  {
   "cell_type": "markdown",
   "metadata": {},
   "source": [
    "## 3. Unifying & Transformation"
   ]
  },
  {
   "cell_type": "code",
   "execution_count": null,
   "metadata": {},
   "outputs": [],
   "source": []
  },
  {
   "cell_type": "markdown",
   "metadata": {},
   "source": [
    "## 4. Data Cleansing"
   ]
  },
  {
   "cell_type": "code",
   "execution_count": null,
   "metadata": {},
   "outputs": [],
   "source": []
  },
  {
   "cell_type": "markdown",
   "metadata": {},
   "source": [
    "## 5. Analysis & Validation"
   ]
  },
  {
   "cell_type": "code",
   "execution_count": null,
   "metadata": {},
   "outputs": [],
   "source": []
  },
  {
   "cell_type": "markdown",
   "metadata": {},
   "source": [
    "## 6. Feature Selection & Engineering"
   ]
  },
  {
   "cell_type": "code",
   "execution_count": null,
   "metadata": {},
   "outputs": [],
   "source": []
  },
  {
   "cell_type": "markdown",
   "metadata": {},
   "source": [
    "## 7. Anwendung in Machine Learning"
   ]
  },
  {
   "cell_type": "code",
   "execution_count": null,
   "metadata": {},
   "outputs": [],
   "source": []
  },
  {
   "cell_type": "markdown",
   "metadata": {},
   "source": [
    "## 8. Anwendung von XAI - Techniken"
   ]
  },
  {
   "cell_type": "code",
   "execution_count": null,
   "metadata": {},
   "outputs": [],
   "source": []
  },
  {
   "cell_type": "markdown",
   "metadata": {},
   "source": [
    "## 9. Fazit"
   ]
  },
  {
   "cell_type": "code",
   "execution_count": null,
   "metadata": {},
   "outputs": [],
   "source": []
  },
  {
   "cell_type": "markdown",
   "metadata": {},
   "source": [
    "## 10. Quellenverzeichnis"
   ]
  },
  {
   "cell_type": "markdown",
   "metadata": {},
   "source": [
    "START (National Consortium for the Study of Terrorism and Responses to Terrorism) (2022). *Global Terrorism Database 1970 - 2020 [Data set].* https://www.start.umd.edu/gtd\n",
    "\n"
   ]
  }
 ],
 "metadata": {
  "kernelspec": {
   "display_name": "Python 3",
   "language": "python",
   "name": "python3"
  },
  "language_info": {
   "name": "python",
   "version": "3.12.1"
  }
 },
 "nbformat": 4,
 "nbformat_minor": 2
}
